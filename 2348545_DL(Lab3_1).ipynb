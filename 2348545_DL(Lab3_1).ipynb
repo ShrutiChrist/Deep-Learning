{
  "nbformat": 4,
  "nbformat_minor": 0,
  "metadata": {
    "colab": {
      "provenance": [],
      "authorship_tag": "ABX9TyP82/d5pDoQn+3ETDjBpdY0",
      "include_colab_link": true
    },
    "kernelspec": {
      "name": "python3",
      "display_name": "Python 3"
    },
    "language_info": {
      "name": "python"
    }
  },
  "cells": [
    {
      "cell_type": "markdown",
      "metadata": {
        "id": "view-in-github",
        "colab_type": "text"
      },
      "source": [
        "<a href=\"https://colab.research.google.com/github/ShrutiChrist/Deep-Learning/blob/main/2348545_DL(Lab3_1).ipynb\" target=\"_parent\"><img src=\"https://colab.research.google.com/assets/colab-badge.svg\" alt=\"Open In Colab\"/></a>"
      ]
    },
    {
      "cell_type": "markdown",
      "source": [
        "The code defines the revenue_function(w), which takes the price (w) as input and returns the revenue calculated using the given revenue function ƒ(w) = 0.5w2 - 30w + 100."
      ],
      "metadata": {
        "id": "GD4e7iBFSHMP"
      }
    },
    {
      "cell_type": "code",
      "execution_count": 2,
      "metadata": {
        "colab": {
          "base_uri": "https://localhost:8080/"
        },
        "id": "-JVYFthpQknH",
        "outputId": "186babbe-7c77-4286-946f-0c25ec2785b6"
      },
      "outputs": [
        {
          "output_type": "stream",
          "name": "stdout",
          "text": [
            "Iteration 1: Updated price = 21.0, Revenue = -309.5\n",
            "Iteration 2: Updated price = 22.8, Revenue = -324.08\n",
            "Iteration 3: Updated price = 25.14, Revenue = -338.1902\n"
          ]
        }
      ],
      "source": [
        "import numpy as np\n",
        "\n",
        "# Define the revenue function\n",
        "def revenue_function(w):\n",
        "    return 0.5 * w**2 - 30 * w + 100\n",
        "\n",
        "# Initialize variables\n",
        "w = 20  # Initial price\n",
        "learning_rate = 0.1\n",
        "momentum = 0.9\n",
        "v = 0  # Initialize velocity\n",
        "\n",
        "# Momentum-based optimization algorithm\n",
        "for i in range(3):  # Repeat for at least 3 iterations\n",
        "# Calculate the gradient of the revenue function\n",
        "    # This section applies the momentum update rule to adjust the price based on the momentum and gradient.\n",
        "    #  This includes updating the velocity and adjusting the price.\n",
        "    gradient = w - 30\n",
        "\n",
        "# Update velocity and price using momentum update rule\n",
        "    # This section applies the momentum update rule to adjust the price based on the momentum and gradient.\n",
        "    # This includes updating the velocity and adjusting the price.\n",
        "    v = 0.9 * v - 0.1 * gradient\n",
        "    w = w + v\n",
        "\n",
        "    # Calculate the revenue at the updated price\n",
        "    current_revenue = revenue_function(w)\n",
        "\n",
        "    # Print the iteration, updated price, and calculated revenue\n",
        "    print(f\"Iteration {i+1}: Updated price = {w}, Revenue = {current_revenue}\")\n"
      ]
    },
    {
      "cell_type": "markdown",
      "source": [
        "These results indicate that the algorithm is moving towards minimizing the revenue lost. The revenue is decreasing with each iteration, which suggests that the algorithm is approaching an optimal price that minimizes revenue lost on marketing/advertisements for the specific product."
      ],
      "metadata": {
        "id": "kr6fWtxaRwvm"
      }
    }
  ]
}