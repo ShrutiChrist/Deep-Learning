{
  "cells": [
    {
      "cell_type": "markdown",
      "metadata": {
        "id": "view-in-github",
        "colab_type": "text"
      },
      "source": [
        "<a href=\"https://colab.research.google.com/github/ShrutiChrist/Deep-Learning/blob/main/2348545_DL(lab2).ipynb\" target=\"_parent\"><img src=\"https://colab.research.google.com/assets/colab-badge.svg\" alt=\"Open In Colab\"/></a>"
      ]
    },
    {
      "cell_type": "markdown",
      "id": "189fda51",
      "metadata": {
        "id": "189fda51"
      },
      "source": [
        "## Multilayer Perceptrons"
      ]
    },
    {
      "cell_type": "markdown",
      "id": "b619fe53",
      "metadata": {
        "id": "b619fe53"
      },
      "source": [
        "### Importing the dataset\n"
      ]
    },
    {
      "cell_type": "code",
      "execution_count": 10,
      "id": "f6c8072a",
      "metadata": {
        "id": "f6c8072a",
        "outputId": "651fabbc-3102-4ef5-8709-cdf2c6f85b62",
        "colab": {
          "base_uri": "https://localhost:8080/",
          "height": 255
        }
      },
      "outputs": [
        {
          "output_type": "execute_result",
          "data": {
            "text/plain": [
              "   Time        V1        V2        V3        V4        V5        V6        V7  \\\n",
              "0     0 -1.359807 -0.072781  2.536347  1.378155 -0.338321  0.462388  0.239599   \n",
              "1     0  1.191857  0.266151  0.166480  0.448154  0.060018 -0.082361 -0.078803   \n",
              "2     1 -1.358354 -1.340163  1.773209  0.379780 -0.503198  1.800499  0.791461   \n",
              "3     1 -0.966272 -0.185226  1.792993 -0.863291 -0.010309  1.247203  0.237609   \n",
              "4     2 -1.158233  0.877737  1.548718  0.403034 -0.407193  0.095921  0.592941   \n",
              "\n",
              "         V8        V9  ...       V21       V22       V23       V24       V25  \\\n",
              "0  0.098698  0.363787  ... -0.018307  0.277838 -0.110474  0.066928  0.128539   \n",
              "1  0.085102 -0.255425  ... -0.225775 -0.638672  0.101288 -0.339846  0.167170   \n",
              "2  0.247676 -1.514654  ...  0.247998  0.771679  0.909412 -0.689281 -0.327642   \n",
              "3  0.377436 -1.387024  ... -0.108300  0.005274 -0.190321 -1.175575  0.647376   \n",
              "4 -0.270533  0.817739  ... -0.009431  0.798278 -0.137458  0.141267 -0.206010   \n",
              "\n",
              "        V26       V27       V28  Amount  Class  \n",
              "0 -0.189115  0.133558 -0.021053  149.62    0.0  \n",
              "1  0.125895 -0.008983  0.014724    2.69    0.0  \n",
              "2 -0.139097 -0.055353 -0.059752  378.66    0.0  \n",
              "3 -0.221929  0.062723  0.061458  123.50    0.0  \n",
              "4  0.502292  0.219422  0.215153   69.99    0.0  \n",
              "\n",
              "[5 rows x 31 columns]"
            ],
            "text/html": [
              "\n",
              "  <div id=\"df-bc582372-d1bf-4564-a734-a6cc564d3044\" class=\"colab-df-container\">\n",
              "    <div>\n",
              "<style scoped>\n",
              "    .dataframe tbody tr th:only-of-type {\n",
              "        vertical-align: middle;\n",
              "    }\n",
              "\n",
              "    .dataframe tbody tr th {\n",
              "        vertical-align: top;\n",
              "    }\n",
              "\n",
              "    .dataframe thead th {\n",
              "        text-align: right;\n",
              "    }\n",
              "</style>\n",
              "<table border=\"1\" class=\"dataframe\">\n",
              "  <thead>\n",
              "    <tr style=\"text-align: right;\">\n",
              "      <th></th>\n",
              "      <th>Time</th>\n",
              "      <th>V1</th>\n",
              "      <th>V2</th>\n",
              "      <th>V3</th>\n",
              "      <th>V4</th>\n",
              "      <th>V5</th>\n",
              "      <th>V6</th>\n",
              "      <th>V7</th>\n",
              "      <th>V8</th>\n",
              "      <th>V9</th>\n",
              "      <th>...</th>\n",
              "      <th>V21</th>\n",
              "      <th>V22</th>\n",
              "      <th>V23</th>\n",
              "      <th>V24</th>\n",
              "      <th>V25</th>\n",
              "      <th>V26</th>\n",
              "      <th>V27</th>\n",
              "      <th>V28</th>\n",
              "      <th>Amount</th>\n",
              "      <th>Class</th>\n",
              "    </tr>\n",
              "  </thead>\n",
              "  <tbody>\n",
              "    <tr>\n",
              "      <th>0</th>\n",
              "      <td>0</td>\n",
              "      <td>-1.359807</td>\n",
              "      <td>-0.072781</td>\n",
              "      <td>2.536347</td>\n",
              "      <td>1.378155</td>\n",
              "      <td>-0.338321</td>\n",
              "      <td>0.462388</td>\n",
              "      <td>0.239599</td>\n",
              "      <td>0.098698</td>\n",
              "      <td>0.363787</td>\n",
              "      <td>...</td>\n",
              "      <td>-0.018307</td>\n",
              "      <td>0.277838</td>\n",
              "      <td>-0.110474</td>\n",
              "      <td>0.066928</td>\n",
              "      <td>0.128539</td>\n",
              "      <td>-0.189115</td>\n",
              "      <td>0.133558</td>\n",
              "      <td>-0.021053</td>\n",
              "      <td>149.62</td>\n",
              "      <td>0.0</td>\n",
              "    </tr>\n",
              "    <tr>\n",
              "      <th>1</th>\n",
              "      <td>0</td>\n",
              "      <td>1.191857</td>\n",
              "      <td>0.266151</td>\n",
              "      <td>0.166480</td>\n",
              "      <td>0.448154</td>\n",
              "      <td>0.060018</td>\n",
              "      <td>-0.082361</td>\n",
              "      <td>-0.078803</td>\n",
              "      <td>0.085102</td>\n",
              "      <td>-0.255425</td>\n",
              "      <td>...</td>\n",
              "      <td>-0.225775</td>\n",
              "      <td>-0.638672</td>\n",
              "      <td>0.101288</td>\n",
              "      <td>-0.339846</td>\n",
              "      <td>0.167170</td>\n",
              "      <td>0.125895</td>\n",
              "      <td>-0.008983</td>\n",
              "      <td>0.014724</td>\n",
              "      <td>2.69</td>\n",
              "      <td>0.0</td>\n",
              "    </tr>\n",
              "    <tr>\n",
              "      <th>2</th>\n",
              "      <td>1</td>\n",
              "      <td>-1.358354</td>\n",
              "      <td>-1.340163</td>\n",
              "      <td>1.773209</td>\n",
              "      <td>0.379780</td>\n",
              "      <td>-0.503198</td>\n",
              "      <td>1.800499</td>\n",
              "      <td>0.791461</td>\n",
              "      <td>0.247676</td>\n",
              "      <td>-1.514654</td>\n",
              "      <td>...</td>\n",
              "      <td>0.247998</td>\n",
              "      <td>0.771679</td>\n",
              "      <td>0.909412</td>\n",
              "      <td>-0.689281</td>\n",
              "      <td>-0.327642</td>\n",
              "      <td>-0.139097</td>\n",
              "      <td>-0.055353</td>\n",
              "      <td>-0.059752</td>\n",
              "      <td>378.66</td>\n",
              "      <td>0.0</td>\n",
              "    </tr>\n",
              "    <tr>\n",
              "      <th>3</th>\n",
              "      <td>1</td>\n",
              "      <td>-0.966272</td>\n",
              "      <td>-0.185226</td>\n",
              "      <td>1.792993</td>\n",
              "      <td>-0.863291</td>\n",
              "      <td>-0.010309</td>\n",
              "      <td>1.247203</td>\n",
              "      <td>0.237609</td>\n",
              "      <td>0.377436</td>\n",
              "      <td>-1.387024</td>\n",
              "      <td>...</td>\n",
              "      <td>-0.108300</td>\n",
              "      <td>0.005274</td>\n",
              "      <td>-0.190321</td>\n",
              "      <td>-1.175575</td>\n",
              "      <td>0.647376</td>\n",
              "      <td>-0.221929</td>\n",
              "      <td>0.062723</td>\n",
              "      <td>0.061458</td>\n",
              "      <td>123.50</td>\n",
              "      <td>0.0</td>\n",
              "    </tr>\n",
              "    <tr>\n",
              "      <th>4</th>\n",
              "      <td>2</td>\n",
              "      <td>-1.158233</td>\n",
              "      <td>0.877737</td>\n",
              "      <td>1.548718</td>\n",
              "      <td>0.403034</td>\n",
              "      <td>-0.407193</td>\n",
              "      <td>0.095921</td>\n",
              "      <td>0.592941</td>\n",
              "      <td>-0.270533</td>\n",
              "      <td>0.817739</td>\n",
              "      <td>...</td>\n",
              "      <td>-0.009431</td>\n",
              "      <td>0.798278</td>\n",
              "      <td>-0.137458</td>\n",
              "      <td>0.141267</td>\n",
              "      <td>-0.206010</td>\n",
              "      <td>0.502292</td>\n",
              "      <td>0.219422</td>\n",
              "      <td>0.215153</td>\n",
              "      <td>69.99</td>\n",
              "      <td>0.0</td>\n",
              "    </tr>\n",
              "  </tbody>\n",
              "</table>\n",
              "<p>5 rows × 31 columns</p>\n",
              "</div>\n",
              "    <div class=\"colab-df-buttons\">\n",
              "\n",
              "  <div class=\"colab-df-container\">\n",
              "    <button class=\"colab-df-convert\" onclick=\"convertToInteractive('df-bc582372-d1bf-4564-a734-a6cc564d3044')\"\n",
              "            title=\"Convert this dataframe to an interactive table.\"\n",
              "            style=\"display:none;\">\n",
              "\n",
              "  <svg xmlns=\"http://www.w3.org/2000/svg\" height=\"24px\" viewBox=\"0 -960 960 960\">\n",
              "    <path d=\"M120-120v-720h720v720H120Zm60-500h600v-160H180v160Zm220 220h160v-160H400v160Zm0 220h160v-160H400v160ZM180-400h160v-160H180v160Zm440 0h160v-160H620v160ZM180-180h160v-160H180v160Zm440 0h160v-160H620v160Z\"/>\n",
              "  </svg>\n",
              "    </button>\n",
              "\n",
              "  <style>\n",
              "    .colab-df-container {\n",
              "      display:flex;\n",
              "      gap: 12px;\n",
              "    }\n",
              "\n",
              "    .colab-df-convert {\n",
              "      background-color: #E8F0FE;\n",
              "      border: none;\n",
              "      border-radius: 50%;\n",
              "      cursor: pointer;\n",
              "      display: none;\n",
              "      fill: #1967D2;\n",
              "      height: 32px;\n",
              "      padding: 0 0 0 0;\n",
              "      width: 32px;\n",
              "    }\n",
              "\n",
              "    .colab-df-convert:hover {\n",
              "      background-color: #E2EBFA;\n",
              "      box-shadow: 0px 1px 2px rgba(60, 64, 67, 0.3), 0px 1px 3px 1px rgba(60, 64, 67, 0.15);\n",
              "      fill: #174EA6;\n",
              "    }\n",
              "\n",
              "    .colab-df-buttons div {\n",
              "      margin-bottom: 4px;\n",
              "    }\n",
              "\n",
              "    [theme=dark] .colab-df-convert {\n",
              "      background-color: #3B4455;\n",
              "      fill: #D2E3FC;\n",
              "    }\n",
              "\n",
              "    [theme=dark] .colab-df-convert:hover {\n",
              "      background-color: #434B5C;\n",
              "      box-shadow: 0px 1px 3px 1px rgba(0, 0, 0, 0.15);\n",
              "      filter: drop-shadow(0px 1px 2px rgba(0, 0, 0, 0.3));\n",
              "      fill: #FFFFFF;\n",
              "    }\n",
              "  </style>\n",
              "\n",
              "    <script>\n",
              "      const buttonEl =\n",
              "        document.querySelector('#df-bc582372-d1bf-4564-a734-a6cc564d3044 button.colab-df-convert');\n",
              "      buttonEl.style.display =\n",
              "        google.colab.kernel.accessAllowed ? 'block' : 'none';\n",
              "\n",
              "      async function convertToInteractive(key) {\n",
              "        const element = document.querySelector('#df-bc582372-d1bf-4564-a734-a6cc564d3044');\n",
              "        const dataTable =\n",
              "          await google.colab.kernel.invokeFunction('convertToInteractive',\n",
              "                                                    [key], {});\n",
              "        if (!dataTable) return;\n",
              "\n",
              "        const docLinkHtml = 'Like what you see? Visit the ' +\n",
              "          '<a target=\"_blank\" href=https://colab.research.google.com/notebooks/data_table.ipynb>data table notebook</a>'\n",
              "          + ' to learn more about interactive tables.';\n",
              "        element.innerHTML = '';\n",
              "        dataTable['output_type'] = 'display_data';\n",
              "        await google.colab.output.renderOutput(dataTable, element);\n",
              "        const docLink = document.createElement('div');\n",
              "        docLink.innerHTML = docLinkHtml;\n",
              "        element.appendChild(docLink);\n",
              "      }\n",
              "    </script>\n",
              "  </div>\n",
              "\n",
              "\n",
              "<div id=\"df-cd0e252b-0650-4c15-a466-23f7472c71ff\">\n",
              "  <button class=\"colab-df-quickchart\" onclick=\"quickchart('df-cd0e252b-0650-4c15-a466-23f7472c71ff')\"\n",
              "            title=\"Suggest charts\"\n",
              "            style=\"display:none;\">\n",
              "\n",
              "<svg xmlns=\"http://www.w3.org/2000/svg\" height=\"24px\"viewBox=\"0 0 24 24\"\n",
              "     width=\"24px\">\n",
              "    <g>\n",
              "        <path d=\"M19 3H5c-1.1 0-2 .9-2 2v14c0 1.1.9 2 2 2h14c1.1 0 2-.9 2-2V5c0-1.1-.9-2-2-2zM9 17H7v-7h2v7zm4 0h-2V7h2v10zm4 0h-2v-4h2v4z\"/>\n",
              "    </g>\n",
              "</svg>\n",
              "  </button>\n",
              "\n",
              "<style>\n",
              "  .colab-df-quickchart {\n",
              "      --bg-color: #E8F0FE;\n",
              "      --fill-color: #1967D2;\n",
              "      --hover-bg-color: #E2EBFA;\n",
              "      --hover-fill-color: #174EA6;\n",
              "      --disabled-fill-color: #AAA;\n",
              "      --disabled-bg-color: #DDD;\n",
              "  }\n",
              "\n",
              "  [theme=dark] .colab-df-quickchart {\n",
              "      --bg-color: #3B4455;\n",
              "      --fill-color: #D2E3FC;\n",
              "      --hover-bg-color: #434B5C;\n",
              "      --hover-fill-color: #FFFFFF;\n",
              "      --disabled-bg-color: #3B4455;\n",
              "      --disabled-fill-color: #666;\n",
              "  }\n",
              "\n",
              "  .colab-df-quickchart {\n",
              "    background-color: var(--bg-color);\n",
              "    border: none;\n",
              "    border-radius: 50%;\n",
              "    cursor: pointer;\n",
              "    display: none;\n",
              "    fill: var(--fill-color);\n",
              "    height: 32px;\n",
              "    padding: 0;\n",
              "    width: 32px;\n",
              "  }\n",
              "\n",
              "  .colab-df-quickchart:hover {\n",
              "    background-color: var(--hover-bg-color);\n",
              "    box-shadow: 0 1px 2px rgba(60, 64, 67, 0.3), 0 1px 3px 1px rgba(60, 64, 67, 0.15);\n",
              "    fill: var(--button-hover-fill-color);\n",
              "  }\n",
              "\n",
              "  .colab-df-quickchart-complete:disabled,\n",
              "  .colab-df-quickchart-complete:disabled:hover {\n",
              "    background-color: var(--disabled-bg-color);\n",
              "    fill: var(--disabled-fill-color);\n",
              "    box-shadow: none;\n",
              "  }\n",
              "\n",
              "  .colab-df-spinner {\n",
              "    border: 2px solid var(--fill-color);\n",
              "    border-color: transparent;\n",
              "    border-bottom-color: var(--fill-color);\n",
              "    animation:\n",
              "      spin 1s steps(1) infinite;\n",
              "  }\n",
              "\n",
              "  @keyframes spin {\n",
              "    0% {\n",
              "      border-color: transparent;\n",
              "      border-bottom-color: var(--fill-color);\n",
              "      border-left-color: var(--fill-color);\n",
              "    }\n",
              "    20% {\n",
              "      border-color: transparent;\n",
              "      border-left-color: var(--fill-color);\n",
              "      border-top-color: var(--fill-color);\n",
              "    }\n",
              "    30% {\n",
              "      border-color: transparent;\n",
              "      border-left-color: var(--fill-color);\n",
              "      border-top-color: var(--fill-color);\n",
              "      border-right-color: var(--fill-color);\n",
              "    }\n",
              "    40% {\n",
              "      border-color: transparent;\n",
              "      border-right-color: var(--fill-color);\n",
              "      border-top-color: var(--fill-color);\n",
              "    }\n",
              "    60% {\n",
              "      border-color: transparent;\n",
              "      border-right-color: var(--fill-color);\n",
              "    }\n",
              "    80% {\n",
              "      border-color: transparent;\n",
              "      border-right-color: var(--fill-color);\n",
              "      border-bottom-color: var(--fill-color);\n",
              "    }\n",
              "    90% {\n",
              "      border-color: transparent;\n",
              "      border-bottom-color: var(--fill-color);\n",
              "    }\n",
              "  }\n",
              "</style>\n",
              "\n",
              "  <script>\n",
              "    async function quickchart(key) {\n",
              "      const quickchartButtonEl =\n",
              "        document.querySelector('#' + key + ' button');\n",
              "      quickchartButtonEl.disabled = true;  // To prevent multiple clicks.\n",
              "      quickchartButtonEl.classList.add('colab-df-spinner');\n",
              "      try {\n",
              "        const charts = await google.colab.kernel.invokeFunction(\n",
              "            'suggestCharts', [key], {});\n",
              "      } catch (error) {\n",
              "        console.error('Error during call to suggestCharts:', error);\n",
              "      }\n",
              "      quickchartButtonEl.classList.remove('colab-df-spinner');\n",
              "      quickchartButtonEl.classList.add('colab-df-quickchart-complete');\n",
              "    }\n",
              "    (() => {\n",
              "      let quickchartButtonEl =\n",
              "        document.querySelector('#df-cd0e252b-0650-4c15-a466-23f7472c71ff button');\n",
              "      quickchartButtonEl.style.display =\n",
              "        google.colab.kernel.accessAllowed ? 'block' : 'none';\n",
              "    })();\n",
              "  </script>\n",
              "</div>\n",
              "    </div>\n",
              "  </div>\n"
            ],
            "application/vnd.google.colaboratory.intrinsic+json": {
              "type": "dataframe",
              "variable_name": "data"
            }
          },
          "metadata": {},
          "execution_count": 10
        }
      ],
      "source": [
        "import pandas as pd\n",
        "data=pd.read_csv('/content/creditcard.csv')\n",
        "data.head()"
      ]
    },
    {
      "cell_type": "markdown",
      "id": "10b801b5",
      "metadata": {
        "id": "10b801b5"
      },
      "source": [
        "### checking for null values"
      ]
    },
    {
      "cell_type": "code",
      "execution_count": 11,
      "id": "610ca968",
      "metadata": {
        "id": "610ca968",
        "outputId": "520cb10a-ea02-4e54-f616-b3e9843f44e6",
        "colab": {
          "base_uri": "https://localhost:8080/"
        }
      },
      "outputs": [
        {
          "output_type": "execute_result",
          "data": {
            "text/plain": [
              "Time      0\n",
              "V1        0\n",
              "V2        0\n",
              "V3        0\n",
              "V4        0\n",
              "V5        0\n",
              "V6        0\n",
              "V7        0\n",
              "V8        0\n",
              "V9        0\n",
              "V10       0\n",
              "V11       1\n",
              "V12       1\n",
              "V13       1\n",
              "V14       1\n",
              "V15       1\n",
              "V16       1\n",
              "V17       1\n",
              "V18       1\n",
              "V19       1\n",
              "V20       1\n",
              "V21       1\n",
              "V22       1\n",
              "V23       1\n",
              "V24       1\n",
              "V25       1\n",
              "V26       1\n",
              "V27       1\n",
              "V28       1\n",
              "Amount    1\n",
              "Class     1\n",
              "dtype: int64"
            ]
          },
          "metadata": {},
          "execution_count": 11
        }
      ],
      "source": [
        "data.isnull().sum()"
      ]
    },
    {
      "cell_type": "markdown",
      "id": "6874dc58",
      "metadata": {
        "id": "6874dc58"
      },
      "source": [
        "### Standardizing"
      ]
    },
    {
      "cell_type": "code",
      "execution_count": 12,
      "id": "9bd0620b",
      "metadata": {
        "id": "9bd0620b"
      },
      "outputs": [],
      "source": [
        "from sklearn.preprocessing import StandardScaler\n",
        "x=data.drop(columns=['Class','Time'])\n",
        "y=data['Class']\n",
        "sc=StandardScaler()\n",
        "x=sc.fit_transform(x)"
      ]
    },
    {
      "cell_type": "markdown",
      "id": "08d32f3a",
      "metadata": {
        "id": "08d32f3a"
      },
      "source": [
        "### Splitting the dataset"
      ]
    },
    {
      "cell_type": "code",
      "execution_count": 14,
      "id": "51bbfb07",
      "metadata": {
        "id": "51bbfb07"
      },
      "outputs": [],
      "source": [
        "import numpy as np\n",
        "\n",
        "# Remove rows with NaN values in y\n",
        "valid_indices = ~np.isnan(y)\n",
        "x_valid = x[valid_indices]\n",
        "y_valid = y[valid_indices]\n",
        "\n",
        "# Split the data\n",
        "x_train, x_test, y_train, y_test = train_test_split(x_valid, y_valid, test_size=0.2, stratify=y_valid)\n"
      ]
    },
    {
      "cell_type": "markdown",
      "id": "2d8b07d0",
      "metadata": {
        "id": "2d8b07d0"
      },
      "source": [
        "### Importing necessary libraries"
      ]
    },
    {
      "cell_type": "code",
      "execution_count": 15,
      "id": "08f64727",
      "metadata": {
        "id": "08f64727"
      },
      "outputs": [],
      "source": [
        "import tensorflow as tf\n",
        "from tensorflow.keras.models import Sequential\n",
        "from tensorflow.keras.layers import Activation\n",
        "from tensorflow.keras.layers import Dense"
      ]
    },
    {
      "cell_type": "markdown",
      "id": "4fca28ff",
      "metadata": {
        "id": "4fca28ff"
      },
      "source": [
        "### creating a hidden layer consisting 15 neurons with relu activation and sigmoid activation for output"
      ]
    },
    {
      "cell_type": "code",
      "execution_count": 16,
      "id": "f9450fd8",
      "metadata": {
        "id": "f9450fd8"
      },
      "outputs": [],
      "source": [
        "model = Sequential([\n",
        "    Dense(input_dim=29,units=15, activation='relu'),\n",
        "    Dense(units=1, activation='sigmoid')\n",
        "])"
      ]
    },
    {
      "cell_type": "markdown",
      "id": "2dd3d832",
      "metadata": {
        "id": "2dd3d832"
      },
      "source": [
        "### Compiling using Adam optimizer"
      ]
    },
    {
      "cell_type": "code",
      "execution_count": 17,
      "id": "d7358eed",
      "metadata": {
        "id": "d7358eed"
      },
      "outputs": [],
      "source": [
        "model.compile(optimizer='adam',\n",
        "              loss='binary_crossentropy',\n",
        "              metrics=['accuracy'])"
      ]
    },
    {
      "cell_type": "markdown",
      "id": "e3d637c3",
      "metadata": {
        "id": "e3d637c3"
      },
      "source": [
        "### Creating 10 epocs with batch of 1000"
      ]
    },
    {
      "cell_type": "code",
      "execution_count": 18,
      "id": "156400c3",
      "metadata": {
        "id": "156400c3",
        "outputId": "b0dd27e7-3052-4742-d06a-01466d59a40a",
        "colab": {
          "base_uri": "https://localhost:8080/"
        }
      },
      "outputs": [
        {
          "output_type": "stream",
          "name": "stdout",
          "text": [
            "Epoch 1/10\n",
            "13/13 [==============================] - 1s 32ms/step - loss: 0.7971 - accuracy: 0.4172 - val_loss: 0.7415 - val_accuracy: 0.4812\n",
            "Epoch 2/10\n",
            "13/13 [==============================] - 0s 8ms/step - loss: 0.6936 - accuracy: 0.5406 - val_loss: 0.6471 - val_accuracy: 0.6131\n",
            "Epoch 3/10\n",
            "13/13 [==============================] - 0s 8ms/step - loss: 0.6054 - accuracy: 0.6734 - val_loss: 0.5671 - val_accuracy: 0.7393\n",
            "Epoch 4/10\n",
            "13/13 [==============================] - 0s 4ms/step - loss: 0.5307 - accuracy: 0.7847 - val_loss: 0.4997 - val_accuracy: 0.8251\n",
            "Epoch 5/10\n",
            "13/13 [==============================] - 0s 6ms/step - loss: 0.4677 - accuracy: 0.8674 - val_loss: 0.4422 - val_accuracy: 0.8898\n",
            "Epoch 6/10\n",
            "13/13 [==============================] - 0s 5ms/step - loss: 0.4147 - accuracy: 0.9204 - val_loss: 0.3929 - val_accuracy: 0.9347\n",
            "Epoch 7/10\n",
            "13/13 [==============================] - 0s 5ms/step - loss: 0.3689 - accuracy: 0.9523 - val_loss: 0.3505 - val_accuracy: 0.9585\n",
            "Epoch 8/10\n",
            "13/13 [==============================] - 0s 4ms/step - loss: 0.3298 - accuracy: 0.9719 - val_loss: 0.3136 - val_accuracy: 0.9786\n",
            "Epoch 9/10\n",
            "13/13 [==============================] - 0s 4ms/step - loss: 0.2955 - accuracy: 0.9855 - val_loss: 0.2814 - val_accuracy: 0.9890\n",
            "Epoch 10/10\n",
            "13/13 [==============================] - 0s 4ms/step - loss: 0.2655 - accuracy: 0.9907 - val_loss: 0.2532 - val_accuracy: 0.9934\n"
          ]
        },
        {
          "output_type": "execute_result",
          "data": {
            "text/plain": [
              "<keras.src.callbacks.History at 0x7a603168ab90>"
            ]
          },
          "metadata": {},
          "execution_count": 18
        }
      ],
      "source": [
        "model.fit(x_train, y_train, epochs=10,\n",
        "          batch_size=1000,\n",
        "          validation_split=0.2)"
      ]
    },
    {
      "cell_type": "markdown",
      "id": "609310a9",
      "metadata": {
        "id": "609310a9"
      },
      "source": [
        "### creating a hidden layer consisting 15 neurons with hyperbolic tangent activation and sigmoid activation for output"
      ]
    },
    {
      "cell_type": "code",
      "execution_count": 19,
      "id": "dae5b6ec",
      "metadata": {
        "id": "dae5b6ec"
      },
      "outputs": [],
      "source": [
        "model1 = Sequential([\n",
        "    Dense(input_dim=29,units=15, activation='tanh'),\n",
        "    Dense(units=1, activation='sigmoid')\n",
        "])"
      ]
    },
    {
      "cell_type": "markdown",
      "id": "ce17a955",
      "metadata": {
        "id": "ce17a955"
      },
      "source": [
        "### Compiling using SGD optimizer"
      ]
    },
    {
      "cell_type": "code",
      "execution_count": 20,
      "id": "6573fb03",
      "metadata": {
        "id": "6573fb03"
      },
      "outputs": [],
      "source": [
        "model1.compile(optimizer='SGD',\n",
        "              loss='binary_crossentropy',\n",
        "              metrics=['accuracy'])"
      ]
    },
    {
      "cell_type": "markdown",
      "id": "8ced0e38",
      "metadata": {
        "id": "8ced0e38"
      },
      "source": [
        "### Creating 10 epocs with batch of 1000"
      ]
    },
    {
      "cell_type": "code",
      "execution_count": 21,
      "id": "aa2279b9",
      "metadata": {
        "id": "aa2279b9",
        "outputId": "5d104f61-116f-409e-d2e1-f0664079f3ac",
        "colab": {
          "base_uri": "https://localhost:8080/"
        }
      },
      "outputs": [
        {
          "output_type": "stream",
          "name": "stdout",
          "text": [
            "Epoch 1/10\n",
            "13/13 [==============================] - 1s 16ms/step - loss: 0.7657 - accuracy: 0.5253 - val_loss: 0.7393 - val_accuracy: 0.5440\n",
            "Epoch 2/10\n",
            "13/13 [==============================] - 0s 4ms/step - loss: 0.7101 - accuracy: 0.5644 - val_loss: 0.6867 - val_accuracy: 0.5867\n",
            "Epoch 3/10\n",
            "13/13 [==============================] - 0s 4ms/step - loss: 0.6601 - accuracy: 0.6051 - val_loss: 0.6395 - val_accuracy: 0.6225\n",
            "Epoch 4/10\n",
            "13/13 [==============================] - 0s 4ms/step - loss: 0.6152 - accuracy: 0.6431 - val_loss: 0.5969 - val_accuracy: 0.6677\n",
            "Epoch 5/10\n",
            "13/13 [==============================] - 0s 4ms/step - loss: 0.5747 - accuracy: 0.6856 - val_loss: 0.5585 - val_accuracy: 0.7038\n",
            "Epoch 6/10\n",
            "13/13 [==============================] - 0s 4ms/step - loss: 0.5380 - accuracy: 0.7219 - val_loss: 0.5236 - val_accuracy: 0.7412\n",
            "Epoch 7/10\n",
            "13/13 [==============================] - 0s 6ms/step - loss: 0.5047 - accuracy: 0.7569 - val_loss: 0.4920 - val_accuracy: 0.7817\n",
            "Epoch 8/10\n",
            "13/13 [==============================] - 0s 6ms/step - loss: 0.4745 - accuracy: 0.7965 - val_loss: 0.4631 - val_accuracy: 0.8097\n",
            "Epoch 9/10\n",
            "13/13 [==============================] - 0s 7ms/step - loss: 0.4470 - accuracy: 0.8246 - val_loss: 0.4369 - val_accuracy: 0.8417\n",
            "Epoch 10/10\n",
            "13/13 [==============================] - 0s 7ms/step - loss: 0.4219 - accuracy: 0.8505 - val_loss: 0.4128 - val_accuracy: 0.8665\n"
          ]
        },
        {
          "output_type": "execute_result",
          "data": {
            "text/plain": [
              "<keras.src.callbacks.History at 0x7a602d97d720>"
            ]
          },
          "metadata": {},
          "execution_count": 21
        }
      ],
      "source": [
        "model1.fit(x_train, y_train, epochs=10,\n",
        "          batch_size=1000,\n",
        "          validation_split=0.2)"
      ]
    },
    {
      "cell_type": "markdown",
      "id": "914b538d",
      "metadata": {
        "id": "914b538d"
      },
      "source": [
        "Since Relu has performed better we will go ahead with that model"
      ]
    },
    {
      "cell_type": "markdown",
      "id": "f300cc96",
      "metadata": {
        "id": "f300cc96"
      },
      "source": [
        "### Predicting values using testing test"
      ]
    },
    {
      "cell_type": "code",
      "execution_count": 22,
      "id": "409edbbc",
      "metadata": {
        "id": "409edbbc",
        "outputId": "169f99cf-f638-4005-b4fb-a82f71c603af",
        "colab": {
          "base_uri": "https://localhost:8080/"
        }
      },
      "outputs": [
        {
          "output_type": "stream",
          "name": "stdout",
          "text": [
            "125/125 [==============================] - 0s 1ms/step\n"
          ]
        }
      ],
      "source": [
        "import numpy as np\n",
        "Y_PREC = np.where(1 , model.predict(x_test) > 0.5, 0)"
      ]
    },
    {
      "cell_type": "markdown",
      "id": "5dcf0be4",
      "metadata": {
        "id": "5dcf0be4"
      },
      "source": [
        "### Confusion matrix"
      ]
    },
    {
      "cell_type": "code",
      "execution_count": 23,
      "id": "4c39a40a",
      "metadata": {
        "id": "4c39a40a",
        "outputId": "2956cd74-3860-4b73-8d29-1b4ed8ffee8f",
        "colab": {
          "base_uri": "https://localhost:8080/"
        }
      },
      "outputs": [
        {
          "output_type": "execute_result",
          "data": {
            "text/plain": [
              "array([[3948,   15],\n",
              "       [  12,    5]])"
            ]
          },
          "metadata": {},
          "execution_count": 23
        }
      ],
      "source": [
        "from sklearn.metrics import confusion_matrix\n",
        "confusion_matrix(y_test,Y_PREC)"
      ]
    },
    {
      "cell_type": "markdown",
      "id": "0f34ae13",
      "metadata": {
        "id": "0f34ae13"
      },
      "source": [
        "### Precision, Recall and f1-score"
      ]
    },
    {
      "cell_type": "code",
      "execution_count": 24,
      "id": "13d4e98b",
      "metadata": {
        "id": "13d4e98b",
        "outputId": "4523a61b-8da2-45f6-81ac-311ebb58cc7f",
        "colab": {
          "base_uri": "https://localhost:8080/"
        }
      },
      "outputs": [
        {
          "output_type": "stream",
          "name": "stdout",
          "text": [
            "              precision    recall  f1-score   support\n",
            "\n",
            "         0.0       1.00      1.00      1.00      3963\n",
            "         1.0       0.25      0.29      0.27        17\n",
            "\n",
            "    accuracy                           0.99      3980\n",
            "   macro avg       0.62      0.65      0.63      3980\n",
            "weighted avg       0.99      0.99      0.99      3980\n",
            "\n"
          ]
        }
      ],
      "source": [
        "from sklearn.metrics import classification_report\n",
        "print(classification_report(y_test,Y_PREC))"
      ]
    },
    {
      "cell_type": "markdown",
      "id": "e1a9bc5f",
      "metadata": {
        "id": "e1a9bc5f"
      },
      "source": [
        "### Precision Recall Curve"
      ]
    },
    {
      "cell_type": "code",
      "execution_count": 25,
      "id": "547fedb1",
      "metadata": {
        "id": "547fedb1",
        "outputId": "b057b789-8569-4333-b3cd-e14d4e4d1b50",
        "colab": {
          "base_uri": "https://localhost:8080/",
          "height": 449
        }
      },
      "outputs": [
        {
          "output_type": "display_data",
          "data": {
            "text/plain": [
              "<Figure size 640x480 with 1 Axes>"
            ],
            "image/png": "[encoded data removed]"
          },
          "metadata": {}
        }
      ],
      "source": [
        "from sklearn.metrics import PrecisionRecallDisplay\n",
        "display = PrecisionRecallDisplay.from_predictions(y_test, Y_PREC, name=\"MLP\")"
      ]
    }
  ],
  "metadata": {
    "kernelspec": {
      "display_name": "Python 3 (ipykernel)",
      "language": "python",
      "name": "python3"
    },
    "language_info": {
      "codemirror_mode": {
        "name": "ipython",
        "version": 3
      },
      "file_extension": ".py",
      "mimetype": "text/x-python",
      "name": "python",
      "nbconvert_exporter": "python",
      "pygments_lexer": "ipython3",
      "version": "3.10.9"
    },
    "colab": {
      "provenance": [],
      "include_colab_link": true
    }
  },
  "nbformat": 4,
  "nbformat_minor": 5
}